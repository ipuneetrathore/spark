{
  "nbformat": 4,
  "nbformat_minor": 0,
  "metadata": {
    "colab": {
      "name": "finBERT_main",
      "provenance": [],
      "authorship_tag": "ABX9TyMZ3SDETLC+nza53DhBAQNi"
    },
    "kernelspec": {
      "name": "python3",
      "display_name": "Python 3"
    },
    "accelerator": "GPU"
  },
  "cells": [
    {
      "cell_type": "code",
      "metadata": {
        "id": "UwBvU6vK6-mD",
        "colab_type": "code",
        "colab": {}
      },
      "source": [
        "!pip install -q -U watermark"
      ],
      "execution_count": 0,
      "outputs": []
    },
    {
      "cell_type": "code",
      "metadata": {
        "id": "6gCxxTdE7CTq",
        "colab_type": "code",
        "outputId": "590f5f50-16be-405e-8702-3175bb7b0dcb",
        "colab": {
          "base_uri": "https://localhost:8080/",
          "height": 675
        }
      },
      "source": [
        "!pip install transformers==2.8.0"
      ],
      "execution_count": 0,
      "outputs": [
        {
          "output_type": "stream",
          "text": [
            "Collecting transformers==2.8.0\n",
            "\u001b[?25l  Downloading https://files.pythonhosted.org/packages/a3/78/92cedda05552398352ed9784908b834ee32a0bd071a9b32de287327370b7/transformers-2.8.0-py3-none-any.whl (563kB)\n",
            "\r\u001b[K     |▋                               | 10kB 30.7MB/s eta 0:00:01\r\u001b[K     |█▏                              | 20kB 5.9MB/s eta 0:00:01\r\u001b[K     |█▊                              | 30kB 8.3MB/s eta 0:00:01\r\u001b[K     |██▎                             | 40kB 10.6MB/s eta 0:00:01\r\u001b[K     |███                             | 51kB 7.0MB/s eta 0:00:01\r\u001b[K     |███▌                            | 61kB 8.2MB/s eta 0:00:01\r\u001b[K     |████                            | 71kB 9.3MB/s eta 0:00:01\r\u001b[K     |████▋                           | 81kB 8.7MB/s eta 0:00:01\r\u001b[K     |█████▎                          | 92kB 8.3MB/s eta 0:00:01\r\u001b[K     |█████▉                          | 102kB 9.1MB/s eta 0:00:01\r\u001b[K     |██████▍                         | 112kB 9.1MB/s eta 0:00:01\r\u001b[K     |███████                         | 122kB 9.1MB/s eta 0:00:01\r\u001b[K     |███████▋                        | 133kB 9.1MB/s eta 0:00:01\r\u001b[K     |████████▏                       | 143kB 9.1MB/s eta 0:00:01\r\u001b[K     |████████▊                       | 153kB 9.1MB/s eta 0:00:01\r\u001b[K     |█████████▎                      | 163kB 9.1MB/s eta 0:00:01\r\u001b[K     |█████████▉                      | 174kB 9.1MB/s eta 0:00:01\r\u001b[K     |██████████▌                     | 184kB 9.1MB/s eta 0:00:01\r\u001b[K     |███████████                     | 194kB 9.1MB/s eta 0:00:01\r\u001b[K     |███████████▋                    | 204kB 9.1MB/s eta 0:00:01\r\u001b[K     |████████████▏                   | 215kB 9.1MB/s eta 0:00:01\r\u001b[K     |████████████▉                   | 225kB 9.1MB/s eta 0:00:01\r\u001b[K     |█████████████▍                  | 235kB 9.1MB/s eta 0:00:01\r\u001b[K     |██████████████                  | 245kB 9.1MB/s eta 0:00:01\r\u001b[K     |██████████████▌                 | 256kB 9.1MB/s eta 0:00:01\r\u001b[K     |███████████████▏                | 266kB 9.1MB/s eta 0:00:01\r\u001b[K     |███████████████▊                | 276kB 9.1MB/s eta 0:00:01\r\u001b[K     |████████████████▎               | 286kB 9.1MB/s eta 0:00:01\r\u001b[K     |████████████████▉               | 296kB 9.1MB/s eta 0:00:01\r\u001b[K     |█████████████████▍              | 307kB 9.1MB/s eta 0:00:01\r\u001b[K     |██████████████████              | 317kB 9.1MB/s eta 0:00:01\r\u001b[K     |██████████████████▋             | 327kB 9.1MB/s eta 0:00:01\r\u001b[K     |███████████████████▏            | 337kB 9.1MB/s eta 0:00:01\r\u001b[K     |███████████████████▊            | 348kB 9.1MB/s eta 0:00:01\r\u001b[K     |████████████████████▍           | 358kB 9.1MB/s eta 0:00:01\r\u001b[K     |█████████████████████           | 368kB 9.1MB/s eta 0:00:01\r\u001b[K     |█████████████████████▌          | 378kB 9.1MB/s eta 0:00:01\r\u001b[K     |██████████████████████          | 389kB 9.1MB/s eta 0:00:01\r\u001b[K     |██████████████████████▊         | 399kB 9.1MB/s eta 0:00:01\r\u001b[K     |███████████████████████▎        | 409kB 9.1MB/s eta 0:00:01\r\u001b[K     |███████████████████████▉        | 419kB 9.1MB/s eta 0:00:01\r\u001b[K     |████████████████████████▍       | 430kB 9.1MB/s eta 0:00:01\r\u001b[K     |█████████████████████████       | 440kB 9.1MB/s eta 0:00:01\r\u001b[K     |█████████████████████████▋      | 450kB 9.1MB/s eta 0:00:01\r\u001b[K     |██████████████████████████▏     | 460kB 9.1MB/s eta 0:00:01\r\u001b[K     |██████████████████████████▊     | 471kB 9.1MB/s eta 0:00:01\r\u001b[K     |███████████████████████████▎    | 481kB 9.1MB/s eta 0:00:01\r\u001b[K     |████████████████████████████    | 491kB 9.1MB/s eta 0:00:01\r\u001b[K     |████████████████████████████▌   | 501kB 9.1MB/s eta 0:00:01\r\u001b[K     |█████████████████████████████   | 512kB 9.1MB/s eta 0:00:01\r\u001b[K     |█████████████████████████████▋  | 522kB 9.1MB/s eta 0:00:01\r\u001b[K     |██████████████████████████████▎ | 532kB 9.1MB/s eta 0:00:01\r\u001b[K     |██████████████████████████████▉ | 542kB 9.1MB/s eta 0:00:01\r\u001b[K     |███████████████████████████████▍| 552kB 9.1MB/s eta 0:00:01\r\u001b[K     |████████████████████████████████| 563kB 9.1MB/s eta 0:00:01\r\u001b[K     |████████████████████████████████| 573kB 9.1MB/s \n",
            "\u001b[?25hCollecting sentencepiece\n",
            "\u001b[?25l  Downloading https://files.pythonhosted.org/packages/3b/88/49e772d686088e1278766ad68a463513642a2a877487decbd691dec02955/sentencepiece-0.1.90-cp36-cp36m-manylinux1_x86_64.whl (1.1MB)\n",
            "\r\u001b[K     |▎                               | 10kB 29.1MB/s eta 0:00:01\r\u001b[K     |▋                               | 20kB 37.5MB/s eta 0:00:01\r\u001b[K     |█                               | 30kB 45.2MB/s eta 0:00:01\r\u001b[K     |█▎                              | 40kB 49.5MB/s eta 0:00:01\r\u001b[K     |█▌                              | 51kB 50.2MB/s eta 0:00:01\r\u001b[K     |█▉                              | 61kB 53.1MB/s eta 0:00:01\r\u001b[K     |██▏                             | 71kB 54.5MB/s eta 0:00:01\r\u001b[K     |██▌                             | 81kB 55.8MB/s eta 0:00:01\r\u001b[K     |██▊                             | 92kB 57.2MB/s eta 0:00:01\r\u001b[K     |███                             | 102kB 58.8MB/s eta 0:00:01\r\u001b[K     |███▍                            | 112kB 58.8MB/s eta 0:00:01\r\u001b[K     |███▊                            | 122kB 58.8MB/s eta 0:00:01\r\u001b[K     |████                            | 133kB 58.8MB/s eta 0:00:01\r\u001b[K     |████▎                           | 143kB 58.8MB/s eta 0:00:01\r\u001b[K     |████▋                           | 153kB 58.8MB/s eta 0:00:01\r\u001b[K     |█████                           | 163kB 58.8MB/s eta 0:00:01\r\u001b[K     |█████▏                          | 174kB 58.8MB/s eta 0:00:01\r\u001b[K     |█████▌                          | 184kB 58.8MB/s eta 0:00:01\r\u001b[K     |█████▉                          | 194kB 58.8MB/s eta 0:00:01\r\u001b[K     |██████▏                         | 204kB 58.8MB/s eta 0:00:01\r\u001b[K     |██████▍                         | 215kB 58.8MB/s eta 0:00:01\r\u001b[K     |██████▊                         | 225kB 58.8MB/s eta 0:00:01\r\u001b[K     |███████                         | 235kB 58.8MB/s eta 0:00:01\r\u001b[K     |███████▍                        | 245kB 58.8MB/s eta 0:00:01\r\u001b[K     |███████▋                        | 256kB 58.8MB/s eta 0:00:01\r\u001b[K     |████████                        | 266kB 58.8MB/s eta 0:00:01\r\u001b[K     |████████▎                       | 276kB 58.8MB/s eta 0:00:01\r\u001b[K     |████████▋                       | 286kB 58.8MB/s eta 0:00:01\r\u001b[K     |████████▉                       | 296kB 58.8MB/s eta 0:00:01\r\u001b[K     |█████████▏                      | 307kB 58.8MB/s eta 0:00:01\r\u001b[K     |█████████▌                      | 317kB 58.8MB/s eta 0:00:01\r\u001b[K     |█████████▉                      | 327kB 58.8MB/s eta 0:00:01\r\u001b[K     |██████████                      | 337kB 58.8MB/s eta 0:00:01\r\u001b[K     |██████████▍                     | 348kB 58.8MB/s eta 0:00:01\r\u001b[K     |██████████▊                     | 358kB 58.8MB/s eta 0:00:01\r\u001b[K     |███████████                     | 368kB 58.8MB/s eta 0:00:01\r\u001b[K     |███████████▎                    | 378kB 58.8MB/s eta 0:00:01\r\u001b[K     |███████████▋                    | 389kB 58.8MB/s eta 0:00:01\r\u001b[K     |████████████                    | 399kB 58.8MB/s eta 0:00:01\r\u001b[K     |████████████▎                   | 409kB 58.8MB/s eta 0:00:01\r\u001b[K     |████████████▌                   | 419kB 58.8MB/s eta 0:00:01\r\u001b[K     |████████████▉                   | 430kB 58.8MB/s eta 0:00:01\r\u001b[K     |█████████████▏                  | 440kB 58.8MB/s eta 0:00:01\r\u001b[K     |█████████████▌                  | 450kB 58.8MB/s eta 0:00:01\r\u001b[K     |█████████████▊                  | 460kB 58.8MB/s eta 0:00:01\r\u001b[K     |██████████████                  | 471kB 58.8MB/s eta 0:00:01\r\u001b[K     |██████████████▍                 | 481kB 58.8MB/s eta 0:00:01\r\u001b[K     |██████████████▊                 | 491kB 58.8MB/s eta 0:00:01\r\u001b[K     |███████████████                 | 501kB 58.8MB/s eta 0:00:01\r\u001b[K     |███████████████▎                | 512kB 58.8MB/s eta 0:00:01\r\u001b[K     |███████████████▋                | 522kB 58.8MB/s eta 0:00:01\r\u001b[K     |████████████████                | 532kB 58.8MB/s eta 0:00:01\r\u001b[K     |████████████████▎               | 542kB 58.8MB/s eta 0:00:01\r\u001b[K     |████████████████▌               | 552kB 58.8MB/s eta 0:00:01\r\u001b[K     |████████████████▉               | 563kB 58.8MB/s eta 0:00:01\r\u001b[K     |█████████████████▏              | 573kB 58.8MB/s eta 0:00:01\r\u001b[K     |█████████████████▌              | 583kB 58.8MB/s eta 0:00:01\r\u001b[K     |█████████████████▊              | 593kB 58.8MB/s eta 0:00:01\r\u001b[K     |██████████████████              | 604kB 58.8MB/s eta 0:00:01\r\u001b[K     |██████████████████▍             | 614kB 58.8MB/s eta 0:00:01\r\u001b[K     |██████████████████▊             | 624kB 58.8MB/s eta 0:00:01\r\u001b[K     |███████████████████             | 634kB 58.8MB/s eta 0:00:01\r\u001b[K     |███████████████████▎            | 645kB 58.8MB/s eta 0:00:01\r\u001b[K     |███████████████████▋            | 655kB 58.8MB/s eta 0:00:01\r\u001b[K     |████████████████████            | 665kB 58.8MB/s eta 0:00:01\r\u001b[K     |████████████████████▏           | 675kB 58.8MB/s eta 0:00:01\r\u001b[K     |████████████████████▌           | 686kB 58.8MB/s eta 0:00:01\r\u001b[K     |████████████████████▉           | 696kB 58.8MB/s eta 0:00:01\r\u001b[K     |█████████████████████▏          | 706kB 58.8MB/s eta 0:00:01\r\u001b[K     |█████████████████████▍          | 716kB 58.8MB/s eta 0:00:01\r\u001b[K     |█████████████████████▊          | 727kB 58.8MB/s eta 0:00:01\r\u001b[K     |██████████████████████          | 737kB 58.8MB/s eta 0:00:01\r\u001b[K     |██████████████████████▍         | 747kB 58.8MB/s eta 0:00:01\r\u001b[K     |██████████████████████▋         | 757kB 58.8MB/s eta 0:00:01\r\u001b[K     |███████████████████████         | 768kB 58.8MB/s eta 0:00:01\r\u001b[K     |███████████████████████▎        | 778kB 58.8MB/s eta 0:00:01\r\u001b[K     |███████████████████████▋        | 788kB 58.8MB/s eta 0:00:01\r\u001b[K     |███████████████████████▉        | 798kB 58.8MB/s eta 0:00:01\r\u001b[K     |████████████████████████▏       | 808kB 58.8MB/s eta 0:00:01\r\u001b[K     |████████████████████████▌       | 819kB 58.8MB/s eta 0:00:01\r\u001b[K     |████████████████████████▉       | 829kB 58.8MB/s eta 0:00:01\r\u001b[K     |█████████████████████████       | 839kB 58.8MB/s eta 0:00:01\r\u001b[K     |█████████████████████████▍      | 849kB 58.8MB/s eta 0:00:01\r\u001b[K     |█████████████████████████▊      | 860kB 58.8MB/s eta 0:00:01\r\u001b[K     |██████████████████████████      | 870kB 58.8MB/s eta 0:00:01\r\u001b[K     |██████████████████████████▎     | 880kB 58.8MB/s eta 0:00:01\r\u001b[K     |██████████████████████████▋     | 890kB 58.8MB/s eta 0:00:01\r\u001b[K     |███████████████████████████     | 901kB 58.8MB/s eta 0:00:01\r\u001b[K     |███████████████████████████▎    | 911kB 58.8MB/s eta 0:00:01\r\u001b[K     |███████████████████████████▌    | 921kB 58.8MB/s eta 0:00:01\r\u001b[K     |███████████████████████████▉    | 931kB 58.8MB/s eta 0:00:01\r\u001b[K     |████████████████████████████▏   | 942kB 58.8MB/s eta 0:00:01\r\u001b[K     |████████████████████████████▌   | 952kB 58.8MB/s eta 0:00:01\r\u001b[K     |████████████████████████████▉   | 962kB 58.8MB/s eta 0:00:01\r\u001b[K     |█████████████████████████████   | 972kB 58.8MB/s eta 0:00:01\r\u001b[K     |█████████████████████████████▍  | 983kB 58.8MB/s eta 0:00:01\r\u001b[K     |█████████████████████████████▊  | 993kB 58.8MB/s eta 0:00:01\r\u001b[K     |██████████████████████████████  | 1.0MB 58.8MB/s eta 0:00:01\r\u001b[K     |██████████████████████████████▎ | 1.0MB 58.8MB/s eta 0:00:01\r\u001b[K     |██████████████████████████████▋ | 1.0MB 58.8MB/s eta 0:00:01\r\u001b[K     |███████████████████████████████ | 1.0MB 58.8MB/s eta 0:00:01\r\u001b[K     |███████████████████████████████▎| 1.0MB 58.8MB/s eta 0:00:01\r\u001b[K     |███████████████████████████████▌| 1.1MB 58.8MB/s eta 0:00:01\r\u001b[K     |███████████████████████████████▉| 1.1MB 58.8MB/s eta 0:00:01\r\u001b[K     |████████████████████████████████| 1.1MB 58.8MB/s \n",
            "\u001b[?25hRequirement already satisfied: requests in /usr/local/lib/python3.6/dist-packages (from transformers==2.8.0) (2.23.0)\n",
            "Requirement already satisfied: boto3 in /usr/local/lib/python3.6/dist-packages (from transformers==2.8.0) (1.13.4)\n",
            "Collecting sacremoses\n",
            "\u001b[?25l  Downloading https://files.pythonhosted.org/packages/7d/34/09d19aff26edcc8eb2a01bed8e98f13a1537005d31e95233fd48216eed10/sacremoses-0.0.43.tar.gz (883kB)\n",
            "\r\u001b[K     |▍                               | 10kB 24.3MB/s eta 0:00:01\r\u001b[K     |▊                               | 20kB 33.0MB/s eta 0:00:01\r\u001b[K     |█▏                              | 30kB 40.0MB/s eta 0:00:01\r\u001b[K     |█▌                              | 40kB 44.7MB/s eta 0:00:01\r\u001b[K     |█▉                              | 51kB 47.1MB/s eta 0:00:01\r\u001b[K     |██▎                             | 61kB 50.4MB/s eta 0:00:01\r\u001b[K     |██▋                             | 71kB 52.2MB/s eta 0:00:01\r\u001b[K     |███                             | 81kB 54.2MB/s eta 0:00:01\r\u001b[K     |███▍                            | 92kB 56.1MB/s eta 0:00:01\r\u001b[K     |███▊                            | 102kB 57.7MB/s eta 0:00:01\r\u001b[K     |████                            | 112kB 57.7MB/s eta 0:00:01\r\u001b[K     |████▌                           | 122kB 57.7MB/s eta 0:00:01\r\u001b[K     |████▉                           | 133kB 57.7MB/s eta 0:00:01\r\u001b[K     |█████▏                          | 143kB 57.7MB/s eta 0:00:01\r\u001b[K     |█████▋                          | 153kB 57.7MB/s eta 0:00:01\r\u001b[K     |██████                          | 163kB 57.7MB/s eta 0:00:01\r\u001b[K     |██████▎                         | 174kB 57.7MB/s eta 0:00:01\r\u001b[K     |██████▊                         | 184kB 57.7MB/s eta 0:00:01\r\u001b[K     |███████                         | 194kB 57.7MB/s eta 0:00:01\r\u001b[K     |███████▍                        | 204kB 57.7MB/s eta 0:00:01\r\u001b[K     |███████▉                        | 215kB 57.7MB/s eta 0:00:01\r\u001b[K     |████████▏                       | 225kB 57.7MB/s eta 0:00:01\r\u001b[K     |████████▌                       | 235kB 57.7MB/s eta 0:00:01\r\u001b[K     |█████████                       | 245kB 57.7MB/s eta 0:00:01\r\u001b[K     |█████████▎                      | 256kB 57.7MB/s eta 0:00:01\r\u001b[K     |█████████▋                      | 266kB 57.7MB/s eta 0:00:01\r\u001b[K     |██████████                      | 276kB 57.7MB/s eta 0:00:01\r\u001b[K     |██████████▍                     | 286kB 57.7MB/s eta 0:00:01\r\u001b[K     |██████████▊                     | 296kB 57.7MB/s eta 0:00:01\r\u001b[K     |███████████▏                    | 307kB 57.7MB/s eta 0:00:01\r\u001b[K     |███████████▌                    | 317kB 57.7MB/s eta 0:00:01\r\u001b[K     |███████████▉                    | 327kB 57.7MB/s eta 0:00:01\r\u001b[K     |████████████▎                   | 337kB 57.7MB/s eta 0:00:01\r\u001b[K     |████████████▋                   | 348kB 57.7MB/s eta 0:00:01\r\u001b[K     |█████████████                   | 358kB 57.7MB/s eta 0:00:01\r\u001b[K     |█████████████▍                  | 368kB 57.7MB/s eta 0:00:01\r\u001b[K     |█████████████▊                  | 378kB 57.7MB/s eta 0:00:01\r\u001b[K     |██████████████                  | 389kB 57.7MB/s eta 0:00:01\r\u001b[K     |██████████████▌                 | 399kB 57.7MB/s eta 0:00:01\r\u001b[K     |██████████████▉                 | 409kB 57.7MB/s eta 0:00:01\r\u001b[K     |███████████████▏                | 419kB 57.7MB/s eta 0:00:01\r\u001b[K     |███████████████▋                | 430kB 57.7MB/s eta 0:00:01\r\u001b[K     |████████████████                | 440kB 57.7MB/s eta 0:00:01\r\u001b[K     |████████████████▎               | 450kB 57.7MB/s eta 0:00:01\r\u001b[K     |████████████████▊               | 460kB 57.7MB/s eta 0:00:01\r\u001b[K     |█████████████████               | 471kB 57.7MB/s eta 0:00:01\r\u001b[K     |█████████████████▍              | 481kB 57.7MB/s eta 0:00:01\r\u001b[K     |█████████████████▉              | 491kB 57.7MB/s eta 0:00:01\r\u001b[K     |██████████████████▏             | 501kB 57.7MB/s eta 0:00:01\r\u001b[K     |██████████████████▌             | 512kB 57.7MB/s eta 0:00:01\r\u001b[K     |███████████████████             | 522kB 57.7MB/s eta 0:00:01\r\u001b[K     |███████████████████▎            | 532kB 57.7MB/s eta 0:00:01\r\u001b[K     |███████████████████▋            | 542kB 57.7MB/s eta 0:00:01\r\u001b[K     |████████████████████            | 552kB 57.7MB/s eta 0:00:01\r\u001b[K     |████████████████████▍           | 563kB 57.7MB/s eta 0:00:01\r\u001b[K     |████████████████████▊           | 573kB 57.7MB/s eta 0:00:01\r\u001b[K     |█████████████████████▏          | 583kB 57.7MB/s eta 0:00:01\r\u001b[K     |█████████████████████▌          | 593kB 57.7MB/s eta 0:00:01\r\u001b[K     |█████████████████████▉          | 604kB 57.7MB/s eta 0:00:01\r\u001b[K     |██████████████████████▎         | 614kB 57.7MB/s eta 0:00:01\r\u001b[K     |██████████████████████▋         | 624kB 57.7MB/s eta 0:00:01\r\u001b[K     |███████████████████████         | 634kB 57.7MB/s eta 0:00:01\r\u001b[K     |███████████████████████▍        | 645kB 57.7MB/s eta 0:00:01\r\u001b[K     |███████████████████████▊        | 655kB 57.7MB/s eta 0:00:01\r\u001b[K     |████████████████████████        | 665kB 57.7MB/s eta 0:00:01\r\u001b[K     |████████████████████████▌       | 675kB 57.7MB/s eta 0:00:01\r\u001b[K     |████████████████████████▉       | 686kB 57.7MB/s eta 0:00:01\r\u001b[K     |█████████████████████████▏      | 696kB 57.7MB/s eta 0:00:01\r\u001b[K     |█████████████████████████▋      | 706kB 57.7MB/s eta 0:00:01\r\u001b[K     |██████████████████████████      | 716kB 57.7MB/s eta 0:00:01\r\u001b[K     |██████████████████████████▎     | 727kB 57.7MB/s eta 0:00:01\r\u001b[K     |██████████████████████████▊     | 737kB 57.7MB/s eta 0:00:01\r\u001b[K     |███████████████████████████     | 747kB 57.7MB/s eta 0:00:01\r\u001b[K     |███████████████████████████▍    | 757kB 57.7MB/s eta 0:00:01\r\u001b[K     |███████████████████████████▉    | 768kB 57.7MB/s eta 0:00:01\r\u001b[K     |████████████████████████████▏   | 778kB 57.7MB/s eta 0:00:01\r\u001b[K     |████████████████████████████▌   | 788kB 57.7MB/s eta 0:00:01\r\u001b[K     |█████████████████████████████   | 798kB 57.7MB/s eta 0:00:01\r\u001b[K     |█████████████████████████████▎  | 808kB 57.7MB/s eta 0:00:01\r\u001b[K     |█████████████████████████████▋  | 819kB 57.7MB/s eta 0:00:01\r\u001b[K     |██████████████████████████████  | 829kB 57.7MB/s eta 0:00:01\r\u001b[K     |██████████████████████████████▍ | 839kB 57.7MB/s eta 0:00:01\r\u001b[K     |██████████████████████████████▊ | 849kB 57.7MB/s eta 0:00:01\r\u001b[K     |███████████████████████████████▏| 860kB 57.7MB/s eta 0:00:01\r\u001b[K     |███████████████████████████████▌| 870kB 57.7MB/s eta 0:00:01\r\u001b[K     |███████████████████████████████▉| 880kB 57.7MB/s eta 0:00:01\r\u001b[K     |████████████████████████████████| 890kB 57.7MB/s \n",
            "\u001b[?25hRequirement already satisfied: dataclasses; python_version < \"3.7\" in /usr/local/lib/python3.6/dist-packages (from transformers==2.8.0) (0.7)\n",
            "Collecting tokenizers==0.5.2\n",
            "\u001b[?25l  Downloading https://files.pythonhosted.org/packages/d1/3f/73c881ea4723e43c1e9acf317cf407fab3a278daab3a69c98dcac511c04f/tokenizers-0.5.2-cp36-cp36m-manylinux1_x86_64.whl (3.7MB)\n",
            "\u001b[K     |████████████████████████████████| 3.7MB 60.1MB/s \n",
            "\u001b[?25hRequirement already satisfied: filelock in /usr/local/lib/python3.6/dist-packages (from transformers==2.8.0) (3.0.12)\n",
            "Requirement already satisfied: numpy in /usr/local/lib/python3.6/dist-packages (from transformers==2.8.0) (1.18.4)\n",
            "Requirement already satisfied: tqdm>=4.27 in /usr/local/lib/python3.6/dist-packages (from transformers==2.8.0) (4.41.1)\n",
            "Requirement already satisfied: regex!=2019.12.17 in /usr/local/lib/python3.6/dist-packages (from transformers==2.8.0) (2019.12.20)\n",
            "Requirement already satisfied: idna<3,>=2.5 in /usr/local/lib/python3.6/dist-packages (from requests->transformers==2.8.0) (2.9)\n",
            "Requirement already satisfied: urllib3!=1.25.0,!=1.25.1,<1.26,>=1.21.1 in /usr/local/lib/python3.6/dist-packages (from requests->transformers==2.8.0) (1.24.3)\n",
            "Requirement already satisfied: chardet<4,>=3.0.2 in /usr/local/lib/python3.6/dist-packages (from requests->transformers==2.8.0) (3.0.4)\n",
            "Requirement already satisfied: certifi>=2017.4.17 in /usr/local/lib/python3.6/dist-packages (from requests->transformers==2.8.0) (2020.4.5.1)\n",
            "Requirement already satisfied: botocore<1.17.0,>=1.16.4 in /usr/local/lib/python3.6/dist-packages (from boto3->transformers==2.8.0) (1.16.4)\n",
            "Requirement already satisfied: jmespath<1.0.0,>=0.7.1 in /usr/local/lib/python3.6/dist-packages (from boto3->transformers==2.8.0) (0.9.5)\n",
            "Requirement already satisfied: s3transfer<0.4.0,>=0.3.0 in /usr/local/lib/python3.6/dist-packages (from boto3->transformers==2.8.0) (0.3.3)\n",
            "Requirement already satisfied: six in /usr/local/lib/python3.6/dist-packages (from sacremoses->transformers==2.8.0) (1.12.0)\n",
            "Requirement already satisfied: click in /usr/local/lib/python3.6/dist-packages (from sacremoses->transformers==2.8.0) (7.1.2)\n",
            "Requirement already satisfied: joblib in /usr/local/lib/python3.6/dist-packages (from sacremoses->transformers==2.8.0) (0.14.1)\n",
            "Requirement already satisfied: python-dateutil<3.0.0,>=2.1 in /usr/local/lib/python3.6/dist-packages (from botocore<1.17.0,>=1.16.4->boto3->transformers==2.8.0) (2.8.1)\n",
            "Requirement already satisfied: docutils<0.16,>=0.10 in /usr/local/lib/python3.6/dist-packages (from botocore<1.17.0,>=1.16.4->boto3->transformers==2.8.0) (0.15.2)\n",
            "Building wheels for collected packages: sacremoses\n",
            "  Building wheel for sacremoses (setup.py) ... \u001b[?25l\u001b[?25hdone\n",
            "  Created wheel for sacremoses: filename=sacremoses-0.0.43-cp36-none-any.whl size=893260 sha256=66e00733852cc28d507ea0fc2c4041fc9129a13358cb0fe8a71076a7ba506ccc\n",
            "  Stored in directory: /root/.cache/pip/wheels/29/3c/fd/7ce5c3f0666dab31a50123635e6fb5e19ceb42ce38d4e58f45\n",
            "Successfully built sacremoses\n",
            "Installing collected packages: sentencepiece, sacremoses, tokenizers, transformers\n",
            "Successfully installed sacremoses-0.0.43 sentencepiece-0.1.90 tokenizers-0.5.2 transformers-2.8.0\n"
          ],
          "name": "stdout"
        }
      ]
    },
    {
      "cell_type": "code",
      "metadata": {
        "id": "Jahq46ZF7CQo",
        "colab_type": "code",
        "outputId": "9cb5b499-b958-4caf-c81d-22e97a0876aa",
        "colab": {
          "base_uri": "https://localhost:8080/",
          "height": 339
        }
      },
      "source": [
        "!pip install torch==1.4.0 torchvision==0.4.1"
      ],
      "execution_count": 0,
      "outputs": [
        {
          "output_type": "stream",
          "text": [
            "Collecting torch==1.4.0\n",
            "\u001b[?25l  Downloading https://files.pythonhosted.org/packages/24/19/4804aea17cd136f1705a5e98a00618cb8f6ccc375ad8bfa437408e09d058/torch-1.4.0-cp36-cp36m-manylinux1_x86_64.whl (753.4MB)\n",
            "\u001b[K     |████████████████████████████████| 753.4MB 21kB/s \n",
            "\u001b[?25hCollecting torchvision==0.4.1\n",
            "\u001b[?25l  Downloading https://files.pythonhosted.org/packages/fc/23/d418c9102d4054d19d57ccf0aca18b7c1c1f34cc0a136760b493f78ddb06/torchvision-0.4.1-cp36-cp36m-manylinux1_x86_64.whl (10.1MB)\n",
            "\u001b[K     |████████████████████████████████| 10.1MB 51.4MB/s \n",
            "\u001b[?25hRequirement already satisfied: six in /usr/local/lib/python3.6/dist-packages (from torchvision==0.4.1) (1.12.0)\n",
            "Requirement already satisfied: pillow>=4.1.1 in /usr/local/lib/python3.6/dist-packages (from torchvision==0.4.1) (7.0.0)\n",
            "Requirement already satisfied: numpy in /usr/local/lib/python3.6/dist-packages (from torchvision==0.4.1) (1.18.4)\n",
            "\u001b[31mERROR: torchvision 0.4.1 has requirement torch==1.3.0, but you'll have torch 1.4.0 which is incompatible.\u001b[0m\n",
            "Installing collected packages: torch, torchvision\n",
            "  Found existing installation: torch 1.5.0+cu101\n",
            "    Uninstalling torch-1.5.0+cu101:\n",
            "      Successfully uninstalled torch-1.5.0+cu101\n",
            "  Found existing installation: torchvision 0.6.0+cu101\n",
            "    Uninstalling torchvision-0.6.0+cu101:\n",
            "      Successfully uninstalled torchvision-0.6.0+cu101\n",
            "Successfully installed torch-1.4.0 torchvision-0.4.1\n"
          ],
          "name": "stdout"
        }
      ]
    },
    {
      "cell_type": "code",
      "metadata": {
        "id": "jgkgm5Su7CO2",
        "colab_type": "code",
        "outputId": "e4a394b1-0c05-47ed-85b8-f02aa4d67ad8",
        "colab": {
          "base_uri": "https://localhost:8080/",
          "height": 70
        }
      },
      "source": [
        "import transformers\n",
        "from transformers import BertModel, BertTokenizer, AdamW, get_linear_schedule_with_warmup\n",
        "import torch\n",
        "import numpy as np\n",
        "import pandas as pd\n",
        "import seaborn as sns\n",
        "from pylab import rcParams\n",
        "import matplotlib.pyplot as plt\n",
        "from matplotlib import rc\n",
        "from sklearn.model_selection import train_test_split\n",
        "from sklearn.metrics import confusion_matrix, classification_report\n",
        "from collections import defaultdict\n",
        "from textwrap import wrap\n",
        "from torch import nn, optim\n",
        "import torch.nn.functional as F\n",
        "from torch.utils.data import Dataset, DataLoader\n",
        "%matplotlib inline\n",
        "%config InlineBackend.figure_format='retina'\n",
        "sns.set(style='whitegrid', palette='muted', font_scale=1.2)\n",
        "HAPPY_COLORS_PALETTE = [\"#01BEFE\", \"#FFDD00\", \"#FF7D00\", \"#FF006D\", \"#ADFF02\", \"#8F00FF\"]\n",
        "sns.set_palette(sns.color_palette(HAPPY_COLORS_PALETTE))\n",
        "\n",
        "RANDOM_SEED = 42\n",
        "np.random.seed(RANDOM_SEED)\n",
        "torch.manual_seed(RANDOM_SEED)\n",
        "device = torch.device(\"cuda:0\" if torch.cuda.is_available() else \"cpu\")"
      ],
      "execution_count": 0,
      "outputs": [
        {
          "output_type": "stream",
          "text": [
            "/usr/local/lib/python3.6/dist-packages/statsmodels/tools/_testing.py:19: FutureWarning: pandas.util.testing is deprecated. Use the functions in the public API at pandas.testing instead.\n",
            "  import pandas.util.testing as tm\n"
          ],
          "name": "stderr"
        }
      ]
    },
    {
      "cell_type": "code",
      "metadata": {
        "id": "ydVOEiIgLAlV",
        "colab_type": "code",
        "colab": {}
      },
      "source": [
        "rcParams['figure.figsize'] = 12, 8"
      ],
      "execution_count": 0,
      "outputs": []
    },
    {
      "cell_type": "code",
      "metadata": {
        "id": "9KhbEqUc7CMW",
        "colab_type": "code",
        "outputId": "f3014e5c-0364-45a5-d3d5-ad2abf66dbc2",
        "colab": {
          "base_uri": "https://localhost:8080/",
          "height": 134
        }
      },
      "source": [
        "%reload_ext watermark\n",
        "%watermark -v -p numpy,pandas,torch,transformers"
      ],
      "execution_count": 0,
      "outputs": [
        {
          "output_type": "stream",
          "text": [
            "CPython 3.6.9\n",
            "IPython 5.5.0\n",
            "\n",
            "numpy 1.18.4\n",
            "pandas 1.0.3\n",
            "torch 1.4.0\n",
            "transformers 2.8.0\n"
          ],
          "name": "stdout"
        }
      ]
    },
    {
      "cell_type": "code",
      "metadata": {
        "id": "WAUWv2v_D338",
        "colab_type": "code",
        "colab": {}
      },
      "source": [
        "tagdatafile = '/content/ALL_DATA.csv'\n",
        "df = pd.read_csv(tagdatafile, engine='python', header=None)\n",
        "df.columns = ['content','tags']"
      ],
      "execution_count": 0,
      "outputs": []
    },
    {
      "cell_type": "code",
      "metadata": {
        "id": "bec-RHkYD3zv",
        "colab_type": "code",
        "colab": {}
      },
      "source": [
        "def to_sentiment_id(tags):\n",
        "    if tags == 'negative':\n",
        "        return 0\n",
        "    elif tags == 'neutral':\n",
        "        return 1\n",
        "    else:\n",
        "        return 2\n",
        "    \n",
        "df['sentiment'] = df.tags.apply(to_sentiment_id)"
      ],
      "execution_count": 0,
      "outputs": []
    },
    {
      "cell_type": "code",
      "metadata": {
        "id": "Tiau0h9uD9ED",
        "colab_type": "code",
        "outputId": "4c35967f-5669-4df6-9e7b-96a412b40d9a",
        "colab": {
          "base_uri": "https://localhost:8080/",
          "height": 34
        }
      },
      "source": [
        "df = df.sample(frac=1).reset_index(drop=True)\n",
        "len(df)"
      ],
      "execution_count": 0,
      "outputs": [
        {
          "output_type": "execute_result",
          "data": {
            "text/plain": [
              "4846"
            ]
          },
          "metadata": {
            "tags": []
          },
          "execution_count": 75
        }
      ]
    },
    {
      "cell_type": "code",
      "metadata": {
        "id": "4e0p8DByXxGl",
        "colab_type": "code",
        "outputId": "b2967ee9-ded5-4827-89f8-f06df546974a",
        "colab": {
          "base_uri": "https://localhost:8080/",
          "height": 195
        }
      },
      "source": [
        "df.groupby(['sentiment']).agg(['count'])"
      ],
      "execution_count": 0,
      "outputs": [
        {
          "output_type": "execute_result",
          "data": {
            "text/html": [
              "<div>\n",
              "<style scoped>\n",
              "    .dataframe tbody tr th:only-of-type {\n",
              "        vertical-align: middle;\n",
              "    }\n",
              "\n",
              "    .dataframe tbody tr th {\n",
              "        vertical-align: top;\n",
              "    }\n",
              "\n",
              "    .dataframe thead tr th {\n",
              "        text-align: left;\n",
              "    }\n",
              "\n",
              "    .dataframe thead tr:last-of-type th {\n",
              "        text-align: right;\n",
              "    }\n",
              "</style>\n",
              "<table border=\"1\" class=\"dataframe\">\n",
              "  <thead>\n",
              "    <tr>\n",
              "      <th></th>\n",
              "      <th>content</th>\n",
              "      <th>tags</th>\n",
              "    </tr>\n",
              "    <tr>\n",
              "      <th></th>\n",
              "      <th>count</th>\n",
              "      <th>count</th>\n",
              "    </tr>\n",
              "    <tr>\n",
              "      <th>sentiment</th>\n",
              "      <th></th>\n",
              "      <th></th>\n",
              "    </tr>\n",
              "  </thead>\n",
              "  <tbody>\n",
              "    <tr>\n",
              "      <th>0</th>\n",
              "      <td>604</td>\n",
              "      <td>604</td>\n",
              "    </tr>\n",
              "    <tr>\n",
              "      <th>1</th>\n",
              "      <td>2879</td>\n",
              "      <td>2879</td>\n",
              "    </tr>\n",
              "    <tr>\n",
              "      <th>2</th>\n",
              "      <td>1363</td>\n",
              "      <td>1363</td>\n",
              "    </tr>\n",
              "  </tbody>\n",
              "</table>\n",
              "</div>"
            ],
            "text/plain": [
              "          content  tags\n",
              "            count count\n",
              "sentiment              \n",
              "0             604   604\n",
              "1            2879  2879\n",
              "2            1363  1363"
            ]
          },
          "metadata": {
            "tags": []
          },
          "execution_count": 125
        }
      ]
    },
    {
      "cell_type": "code",
      "metadata": {
        "id": "qqflCscc7CBU",
        "colab_type": "code",
        "colab": {}
      },
      "source": [
        "class_names = ['negative', 'neutral', 'positive']"
      ],
      "execution_count": 0,
      "outputs": []
    },
    {
      "cell_type": "code",
      "metadata": {
        "id": "lC6cbzMK7B-n",
        "colab_type": "code",
        "outputId": "7313a63f-f799-4fe7-ba4e-7875c07e6afc",
        "colab": {
          "base_uri": "https://localhost:8080/",
          "height": 292
        }
      },
      "source": [
        "ax = sns.countplot(df.sentiment)\n",
        "plt.xlabel('review sentiment')\n",
        "ax.set_xticklabels(class_names);"
      ],
      "execution_count": 0,
      "outputs": [
        {
          "output_type": "display_data",
          "data": {
            "image/png": "[encoded data removed]",
            "text/plain": [
              "<Figure size 432x288 with 1 Axes>"
            ]
          },
          "metadata": {
            "tags": [],
            "image/png": {
              "width": 410,
              "height": 275
            },
            "needs_background": "light"
          }
        }
      ]
    },
    {
      "cell_type": "code",
      "metadata": {
        "id": "u_gppmlr7B8H",
        "colab_type": "code",
        "colab": {}
      },
      "source": [
        "PRE_TRAINED_MODEL_NAME = 'bert-base-cased'"
      ],
      "execution_count": 0,
      "outputs": []
    },
    {
      "cell_type": "code",
      "metadata": {
        "id": "FM2GYhpb7B5U",
        "colab_type": "code",
        "colab": {}
      },
      "source": [
        "tokenizer = BertTokenizer.from_pretrained(PRE_TRAINED_MODEL_NAME)"
      ],
      "execution_count": 0,
      "outputs": []
    },
    {
      "cell_type": "code",
      "metadata": {
        "id": "ZF-efE_I9wC0",
        "colab_type": "code",
        "colab": {}
      },
      "source": [
        "sample_txt = 'When was I last outside? I am stuck at home for 2 weeks.'"
      ],
      "execution_count": 0,
      "outputs": []
    },
    {
      "cell_type": "code",
      "metadata": {
        "id": "wlAF3JWV9xzW",
        "colab_type": "code",
        "outputId": "ab1b2ff9-458f-48c9-dc04-08a5eba90f2d",
        "colab": {
          "base_uri": "https://localhost:8080/",
          "height": 67
        }
      },
      "source": [
        "tokens = tokenizer.tokenize(sample_txt)\n",
        "token_ids = tokenizer.convert_tokens_to_ids(tokens)\n",
        "\n",
        "print(f' Sentence: {sample_txt}')\n",
        "print(f'   Tokens: {tokens}')\n",
        "print(f'Token IDs: {token_ids}')"
      ],
      "execution_count": 0,
      "outputs": [
        {
          "output_type": "stream",
          "text": [
            " Sentence: When was I last outside? I am stuck at home for 2 weeks.\n",
            "   Tokens: ['When', 'was', 'I', 'last', 'outside', '?', 'I', 'am', 'stuck', 'at', 'home', 'for', '2', 'weeks', '.']\n",
            "Token IDs: [1332, 1108, 146, 1314, 1796, 136, 146, 1821, 5342, 1120, 1313, 1111, 123, 2277, 119]\n"
          ],
          "name": "stdout"
        }
      ]
    },
    {
      "cell_type": "code",
      "metadata": {
        "id": "bEFRuBdv9oim",
        "colab_type": "code",
        "outputId": "a73ffc8c-8a67-45ba-f2b2-8263acba10bc",
        "colab": {
          "base_uri": "https://localhost:8080/",
          "height": 34
        }
      },
      "source": [
        "encoding = tokenizer.encode_plus(\n",
        "  sample_txt,\n",
        "  max_length=32,\n",
        "  add_special_tokens=True, # Add '[CLS]' and '[SEP]'\n",
        "  return_token_type_ids=False,\n",
        "  pad_to_max_length=True,\n",
        "  return_attention_mask=True,\n",
        "  return_tensors='pt',  # Return PyTorch tensors\n",
        ")\n",
        "\n",
        "encoding.keys()"
      ],
      "execution_count": 0,
      "outputs": [
        {
          "output_type": "execute_result",
          "data": {
            "text/plain": [
              "dict_keys(['input_ids', 'attention_mask'])"
            ]
          },
          "metadata": {
            "tags": []
          },
          "execution_count": 82
        }
      ]
    },
    {
      "cell_type": "code",
      "metadata": {
        "id": "S25IQMvH70zC",
        "colab_type": "code",
        "colab": {}
      },
      "source": [
        "MAX_LEN = 160"
      ],
      "execution_count": 0,
      "outputs": []
    },
    {
      "cell_type": "code",
      "metadata": {
        "id": "bQ_K1bH670w4",
        "colab_type": "code",
        "colab": {}
      },
      "source": [
        "class GPReviewDataset(Dataset):\n",
        "\n",
        "  def __init__(self, reviews, targets, tokenizer, max_len):\n",
        "    self.reviews = reviews\n",
        "    self.targets = targets\n",
        "    self.tokenizer = tokenizer\n",
        "    self.max_len = max_len\n",
        "  \n",
        "  def __len__(self):\n",
        "    return len(self.reviews)\n",
        "  \n",
        "  def __getitem__(self, item):\n",
        "    review = str(self.reviews[item])\n",
        "    target = self.targets[item]\n",
        "\n",
        "    encoding = self.tokenizer.encode_plus(\n",
        "      review,\n",
        "      add_special_tokens=True,\n",
        "      max_length=self.max_len,\n",
        "      return_token_type_ids=False,\n",
        "      pad_to_max_length=True,\n",
        "      return_attention_mask=True,\n",
        "      return_tensors='pt',\n",
        "    )\n",
        "\n",
        "    return {\n",
        "      'review_text': review,\n",
        "      'input_ids': encoding['input_ids'].flatten(),\n",
        "      'attention_mask': encoding['attention_mask'].flatten(),\n",
        "      'targets': torch.tensor(target, dtype=torch.long)\n",
        "    }"
      ],
      "execution_count": 0,
      "outputs": []
    },
    {
      "cell_type": "code",
      "metadata": {
        "id": "TUYZE5nZ70vS",
        "colab_type": "code",
        "colab": {}
      },
      "source": [
        "df_train0, df_test = train_test_split(df, test_size=0.3, random_state=RANDOM_SEED)\n",
        "df_val, df_test = train_test_split(df_test, test_size=0.5, random_state=RANDOM_SEED)\n",
        "df_train = df"
      ],
      "execution_count": 0,
      "outputs": []
    },
    {
      "cell_type": "code",
      "metadata": {
        "id": "9VeD4DB-70rm",
        "colab_type": "code",
        "outputId": "30465fb5-15db-48b9-bf96-95d3acb5bb7c",
        "colab": {
          "base_uri": "https://localhost:8080/",
          "height": 34
        }
      },
      "source": [
        "df_train0.shape, df_val.shape, df_test.shape, df_train.shape"
      ],
      "execution_count": 128,
      "outputs": [
        {
          "output_type": "execute_result",
          "data": {
            "text/plain": [
              "((3392, 3), (727, 3), (727, 3), (4846, 3))"
            ]
          },
          "metadata": {
            "tags": []
          },
          "execution_count": 128
        }
      ]
    },
    {
      "cell_type": "code",
      "metadata": {
        "id": "HsyTB_0G70p-",
        "colab_type": "code",
        "colab": {}
      },
      "source": [
        "def create_data_loader(df, tokenizer, max_len, batch_size):\n",
        "  ds = GPReviewDataset(\n",
        "    reviews=df.content.to_numpy(),\n",
        "    targets=df.sentiment.to_numpy(),\n",
        "    tokenizer=tokenizer,\n",
        "    max_len=max_len\n",
        "  )\n",
        "\n",
        "  return DataLoader(\n",
        "    ds,\n",
        "    batch_size=batch_size,\n",
        "    num_workers=4\n",
        "  )"
      ],
      "execution_count": 0,
      "outputs": []
    },
    {
      "cell_type": "code",
      "metadata": {
        "id": "2ctNmBxs70ml",
        "colab_type": "code",
        "colab": {}
      },
      "source": [
        "BATCH_SIZE = 8\n",
        "\n",
        "train_data_loader = create_data_loader(df_train, tokenizer, MAX_LEN, BATCH_SIZE)\n",
        "val_data_loader = create_data_loader(df_val, tokenizer, MAX_LEN, BATCH_SIZE)\n",
        "test_data_loader = create_data_loader(df_test, tokenizer, MAX_LEN, BATCH_SIZE)"
      ],
      "execution_count": 0,
      "outputs": []
    },
    {
      "cell_type": "code",
      "metadata": {
        "id": "8T32d_XS70lC",
        "colab_type": "code",
        "outputId": "8e08d408-ea86-4e95-d7f6-2f6e143091d6",
        "colab": {
          "base_uri": "https://localhost:8080/",
          "height": 34
        }
      },
      "source": [
        "data = next(iter(train_data_loader))\n",
        "data.keys()"
      ],
      "execution_count": 131,
      "outputs": [
        {
          "output_type": "execute_result",
          "data": {
            "text/plain": [
              "dict_keys(['review_text', 'input_ids', 'attention_mask', 'targets'])"
            ]
          },
          "metadata": {
            "tags": []
          },
          "execution_count": 131
        }
      ]
    },
    {
      "cell_type": "code",
      "metadata": {
        "id": "lfXhjHeZ70ji",
        "colab_type": "code",
        "outputId": "552309d9-f23a-4a23-c73f-91ae3d6de3b9",
        "colab": {
          "base_uri": "https://localhost:8080/",
          "height": 67
        }
      },
      "source": [
        "print(data['input_ids'].shape)\n",
        "print(data['attention_mask'].shape)\n",
        "print(data['targets'].shape)"
      ],
      "execution_count": 132,
      "outputs": [
        {
          "output_type": "stream",
          "text": [
            "torch.Size([8, 160])\n",
            "torch.Size([8, 160])\n",
            "torch.Size([8])\n"
          ],
          "name": "stdout"
        }
      ]
    },
    {
      "cell_type": "code",
      "metadata": {
        "id": "YIAsi7kv70eg",
        "colab_type": "code",
        "colab": {}
      },
      "source": [
        "bert_model = BertModel.from_pretrained(PRE_TRAINED_MODEL_NAME)"
      ],
      "execution_count": 0,
      "outputs": []
    },
    {
      "cell_type": "code",
      "metadata": {
        "id": "u2T4yfKW70cq",
        "colab_type": "code",
        "colab": {}
      },
      "source": [
        "last_hidden_state, pooled_output = bert_model(\n",
        "  input_ids=encoding['input_ids'], \n",
        "  attention_mask=encoding['attention_mask']\n",
        ")"
      ],
      "execution_count": 0,
      "outputs": []
    },
    {
      "cell_type": "code",
      "metadata": {
        "id": "-dFjSlyZ70Zh",
        "colab_type": "code",
        "colab": {}
      },
      "source": [
        "class SentimentClassifier(nn.Module):\n",
        "\n",
        "  def __init__(self, n_classes):\n",
        "    super(SentimentClassifier, self).__init__()\n",
        "    self.bert = BertModel.from_pretrained(PRE_TRAINED_MODEL_NAME)\n",
        "    self.drop = nn.Dropout(p=0.3)\n",
        "    self.out = nn.Linear(self.bert.config.hidden_size, n_classes)\n",
        "  \n",
        "  def forward(self, input_ids, attention_mask):\n",
        "    _, pooled_output = self.bert(\n",
        "      input_ids=input_ids,\n",
        "      attention_mask=attention_mask\n",
        "    )\n",
        "    output = self.drop(pooled_output)\n",
        "    return self.out(output)"
      ],
      "execution_count": 0,
      "outputs": []
    },
    {
      "cell_type": "code",
      "metadata": {
        "id": "jHMHVuSQ70X7",
        "colab_type": "code",
        "colab": {}
      },
      "source": [
        "model = SentimentClassifier(len(class_names))\n",
        "model = model.to(device)"
      ],
      "execution_count": 0,
      "outputs": []
    },
    {
      "cell_type": "code",
      "metadata": {
        "id": "BKrkYbr970Um",
        "colab_type": "code",
        "outputId": "c96290c9-54e3-4707-ae2e-3ba77c512278",
        "colab": {
          "base_uri": "https://localhost:8080/",
          "height": 50
        }
      },
      "source": [
        "input_ids = data['input_ids'].to(device)\n",
        "attention_mask = data['attention_mask'].to(device)\n",
        "\n",
        "print(input_ids.shape) # batch size x seq length\n",
        "print(attention_mask.shape) # batch size x seq length"
      ],
      "execution_count": 137,
      "outputs": [
        {
          "output_type": "stream",
          "text": [
            "torch.Size([8, 160])\n",
            "torch.Size([8, 160])\n"
          ],
          "name": "stdout"
        }
      ]
    },
    {
      "cell_type": "code",
      "metadata": {
        "id": "_lcUSRbG70S8",
        "colab_type": "code",
        "colab": {}
      },
      "source": [
        "EPOCHS = 10\n",
        "\n",
        "optimizer = AdamW(model.parameters(), lr=2e-5, correct_bias=False)\n",
        "total_steps = len(train_data_loader) * EPOCHS\n",
        "\n",
        "scheduler = get_linear_schedule_with_warmup(\n",
        "  optimizer,\n",
        "  num_warmup_steps=0,\n",
        "  num_training_steps=total_steps\n",
        ")\n",
        "\n",
        "loss_fn = nn.CrossEntropyLoss().to(device)"
      ],
      "execution_count": 0,
      "outputs": []
    },
    {
      "cell_type": "code",
      "metadata": {
        "id": "NLwhZ4CB70QA",
        "colab_type": "code",
        "colab": {}
      },
      "source": [
        "def train_epoch(\n",
        "  model, \n",
        "  data_loader, \n",
        "  loss_fn, \n",
        "  optimizer, \n",
        "  device, \n",
        "  scheduler, \n",
        "  n_examples\n",
        "):\n",
        "  model = model.train()\n",
        "\n",
        "  losses = []\n",
        "  correct_predictions = 0\n",
        "  \n",
        "  for d in data_loader:\n",
        "    input_ids = d[\"input_ids\"].to(device)\n",
        "    attention_mask = d[\"attention_mask\"].to(device)\n",
        "    targets = d[\"targets\"].to(device)\n",
        "\n",
        "    outputs = model(\n",
        "      input_ids=input_ids,\n",
        "      attention_mask=attention_mask\n",
        "    )\n",
        "\n",
        "    _, preds = torch.max(outputs, dim=1)\n",
        "    loss = loss_fn(outputs, targets)\n",
        "\n",
        "    correct_predictions += torch.sum(preds == targets)\n",
        "    losses.append(loss.item())\n",
        "\n",
        "    loss.backward()\n",
        "    nn.utils.clip_grad_norm_(model.parameters(), max_norm=1.0)\n",
        "    optimizer.step()\n",
        "    scheduler.step()\n",
        "    optimizer.zero_grad()\n",
        "\n",
        "  return correct_predictions.double() / n_examples, np.mean(losses)"
      ],
      "execution_count": 0,
      "outputs": []
    },
    {
      "cell_type": "code",
      "metadata": {
        "id": "UU2NXYm870LK",
        "colab_type": "code",
        "colab": {}
      },
      "source": [
        "def eval_model(model, data_loader, loss_fn, device, n_examples):\n",
        "  model = model.eval()\n",
        "\n",
        "  losses = []\n",
        "  correct_predictions = 0\n",
        "\n",
        "  with torch.no_grad():\n",
        "    for d in data_loader:\n",
        "      input_ids = d[\"input_ids\"].to(device)\n",
        "      attention_mask = d[\"attention_mask\"].to(device)\n",
        "      targets = d[\"targets\"].to(device)\n",
        "\n",
        "      outputs = model(\n",
        "        input_ids=input_ids,\n",
        "        attention_mask=attention_mask\n",
        "      )\n",
        "      _, preds = torch.max(outputs, dim=1)\n",
        "\n",
        "      loss = loss_fn(outputs, targets)\n",
        "\n",
        "      correct_predictions += torch.sum(preds == targets)\n",
        "      losses.append(loss.item())\n",
        "\n",
        "  return correct_predictions.double() / n_examples, np.mean(losses)"
      ],
      "execution_count": 0,
      "outputs": []
    },
    {
      "cell_type": "code",
      "metadata": {
        "id": "I5b9ihS970Jx",
        "colab_type": "code",
        "outputId": "b1764d40-def0-46f0-c360-b8396fe2f5c5",
        "colab": {
          "base_uri": "https://localhost:8080/",
          "height": 890
        }
      },
      "source": [
        "%%time\n",
        "\n",
        "history = defaultdict(list)\n",
        "best_accuracy = 0\n",
        "\n",
        "for epoch in range(EPOCHS):\n",
        "\n",
        "  print(f'Epoch {epoch + 1}/{EPOCHS}')\n",
        "  print('-' * 10)\n",
        "\n",
        "  train_acc, train_loss = train_epoch(\n",
        "    model,\n",
        "    train_data_loader,    \n",
        "    loss_fn, \n",
        "    optimizer, \n",
        "    device, \n",
        "    scheduler, \n",
        "    len(df_train)\n",
        "  )\n",
        "\n",
        "  print(f'Train loss {train_loss} accuracy {train_acc}')\n",
        "\n",
        "  val_acc, val_loss = eval_model(\n",
        "    model,\n",
        "    val_data_loader,\n",
        "    loss_fn, \n",
        "    device, \n",
        "    len(df_val)\n",
        "  )\n",
        "\n",
        "  print(f'Val loss {val_loss} accuracy {val_acc}')\n",
        "  print()\n",
        "\n",
        "  history['train_acc'].append(train_acc)\n",
        "  history['train_loss'].append(train_loss)\n",
        "  history['val_acc'].append(val_acc)\n",
        "  history['val_loss'].append(val_loss)\n",
        "\n",
        "  if val_acc > best_accuracy:\n",
        "    torch.save(model.state_dict(), 'best_model_state.bin')\n",
        "    best_accuracy = val_acc"
      ],
      "execution_count": 145,
      "outputs": [
        {
          "output_type": "stream",
          "text": [
            "Epoch 1/10\n",
            "----------\n",
            "Train loss 0.21591120192369218 accuracy 0.9531572430870822\n",
            "Val loss 0.05723581111038124 accuracy 0.9876203576341128\n",
            "\n",
            "Epoch 2/10\n",
            "----------\n",
            "Train loss 0.10246825536224867 accuracy 0.9789517127527859\n",
            "Val loss 0.02674972192271725 accuracy 0.9944979367262724\n",
            "\n",
            "Epoch 3/10\n",
            "----------\n",
            "Train loss 0.04923368320360829 accuracy 0.9886504333470905\n",
            "Val loss 0.015656069412336243 accuracy 0.9958734525447043\n",
            "\n",
            "Epoch 4/10\n",
            "----------\n",
            "Train loss 0.028668192578983683 accuracy 0.9936029715229056\n",
            "Val loss 0.031893480446312454 accuracy 0.9944979367262724\n",
            "\n",
            "Epoch 5/10\n",
            "----------\n",
            "Train loss 0.021931050707994906 accuracy 0.9950474618241849\n",
            "Val loss 0.008188120237149293 accuracy 0.9986244841815681\n",
            "\n",
            "Epoch 6/10\n",
            "----------\n",
            "Train loss 0.014586085054052152 accuracy 0.9969046636401157\n",
            "Val loss 0.007389267909504949 accuracy 0.9986244841815681\n",
            "\n",
            "Epoch 7/10\n",
            "----------\n",
            "Train loss 0.009986887424692462 accuracy 0.9971110193974413\n",
            "Val loss 0.00623549191132642 accuracy 0.9986244841815681\n",
            "\n",
            "Epoch 8/10\n",
            "----------\n",
            "Train loss 0.007236841090672038 accuracy 0.9975237309120926\n",
            "Val loss 0.006359767408547079 accuracy 0.9986244841815681\n",
            "\n",
            "Epoch 9/10\n",
            "----------\n",
            "Train loss 0.008753196548412341 accuracy 0.9977300866694181\n",
            "Val loss 0.005674996920628633 accuracy 0.9986244841815681\n",
            "\n",
            "Epoch 10/10\n",
            "----------\n",
            "Train loss 0.003801157298457898 accuracy 0.9985555096987206\n",
            "Val loss 0.0051833597045405555 accuracy 0.9986244841815681\n",
            "\n",
            "CPU times: user 12min 5s, sys: 4min 32s, total: 16min 37s\n",
            "Wall time: 16min 49s\n"
          ],
          "name": "stdout"
        }
      ]
    },
    {
      "cell_type": "code",
      "metadata": {
        "id": "Dib3rh6U70Gb",
        "colab_type": "code",
        "outputId": "761afe38-f000-412b-fa73-7dfc22950788",
        "colab": {
          "base_uri": "https://localhost:8080/",
          "height": 523
        }
      },
      "source": [
        "plt.plot(history['train_acc'], label='train accuracy')\n",
        "plt.plot(history['val_acc'], label='validation accuracy')\n",
        "\n",
        "plt.title('Training history')\n",
        "plt.ylabel('Accuracy')\n",
        "plt.xlabel('Epoch')\n",
        "plt.legend()\n",
        "plt.ylim([0, 1]);"
      ],
      "execution_count": 146,
      "outputs": [
        {
          "output_type": "display_data",
          "data": {
            "image/png": "[encoded data removed]",
            "text/plain": [
              "<Figure size 864x576 with 1 Axes>"
            ]
          },
          "metadata": {
            "tags": [],
            "image/png": {
              "width": 732,
              "height": 506
            },
            "needs_background": "light"
          }
        }
      ]
    },
    {
      "cell_type": "code",
      "metadata": {
        "id": "bFwit4lv70Dn",
        "colab_type": "code",
        "outputId": "1a38e037-6c2b-4fd8-a07d-ed5fb36cc3b3",
        "colab": {
          "base_uri": "https://localhost:8080/",
          "height": 34
        }
      },
      "source": [
        "test_acc, _ = eval_model(\n",
        "  model,\n",
        "  test_data_loader,\n",
        "  loss_fn,\n",
        "  device,\n",
        "  len(df_test)\n",
        ")\n",
        "\n",
        "test_acc.item()"
      ],
      "execution_count": 147,
      "outputs": [
        {
          "output_type": "execute_result",
          "data": {
            "text/plain": [
              "0.9986244841815681"
            ]
          },
          "metadata": {
            "tags": []
          },
          "execution_count": 147
        }
      ]
    },
    {
      "cell_type": "code",
      "metadata": {
        "id": "PmMjU0oj70Ah",
        "colab_type": "code",
        "colab": {}
      },
      "source": [
        "def get_predictions(model, data_loader):\n",
        "  model = model.eval()\n",
        "  \n",
        "  review_texts = []\n",
        "  predictions = []\n",
        "  prediction_probs = []\n",
        "  real_values = []\n",
        "\n",
        "  with torch.no_grad():\n",
        "    for d in data_loader:\n",
        "\n",
        "      texts = d[\"review_text\"]\n",
        "      input_ids = d[\"input_ids\"].to(device)\n",
        "      attention_mask = d[\"attention_mask\"].to(device)\n",
        "      targets = d[\"targets\"].to(device)\n",
        "\n",
        "      outputs = model(\n",
        "        input_ids=input_ids,\n",
        "        attention_mask=attention_mask\n",
        "      )\n",
        "      _, preds = torch.max(outputs, dim=1)\n",
        "\n",
        "      probs = F.softmax(outputs, dim=1)\n",
        "\n",
        "      review_texts.extend(texts)\n",
        "      predictions.extend(preds)\n",
        "      prediction_probs.extend(probs)\n",
        "      real_values.extend(targets)\n",
        "\n",
        "  predictions = torch.stack(predictions).cpu()\n",
        "  prediction_probs = torch.stack(prediction_probs).cpu()\n",
        "  real_values = torch.stack(real_values).cpu()\n",
        "  return review_texts, predictions, prediction_probs, real_values"
      ],
      "execution_count": 0,
      "outputs": []
    },
    {
      "cell_type": "code",
      "metadata": {
        "id": "ZJLhFG1r-Tsx",
        "colab_type": "code",
        "colab": {}
      },
      "source": [
        "y_review_texts, y_pred, y_pred_probs, y_test = get_predictions(\n",
        "  model,\n",
        "  test_data_loader\n",
        ")"
      ],
      "execution_count": 0,
      "outputs": []
    },
    {
      "cell_type": "code",
      "metadata": {
        "id": "WUEP80Vf-U3F",
        "colab_type": "code",
        "outputId": "bd0044f7-337d-4370-8fd9-3f8551ed341a",
        "colab": {
          "base_uri": "https://localhost:8080/",
          "height": 185
        }
      },
      "source": [
        "print(classification_report(y_test, y_pred, target_names=class_names))"
      ],
      "execution_count": 150,
      "outputs": [
        {
          "output_type": "stream",
          "text": [
            "              precision    recall  f1-score   support\n",
            "\n",
            "    negative       0.99      1.00      0.99        85\n",
            "     neutral       1.00      1.00      1.00       420\n",
            "    positive       1.00      1.00      1.00       222\n",
            "\n",
            "    accuracy                           1.00       727\n",
            "   macro avg       1.00      1.00      1.00       727\n",
            "weighted avg       1.00      1.00      1.00       727\n",
            "\n"
          ],
          "name": "stdout"
        }
      ]
    },
    {
      "cell_type": "code",
      "metadata": {
        "id": "sgXKyHTPMgUb",
        "colab_type": "code",
        "outputId": "4b9fd7db-aed9-4626-81de-89f5672e12c9",
        "colab": {
          "base_uri": "https://localhost:8080/",
          "height": 533
        }
      },
      "source": [
        "def show_confusion_matrix(confusion_matrix):\n",
        "  hmap = sns.heatmap(confusion_matrix, annot=True, fmt=\"d\", cmap=\"Blues\")\n",
        "  hmap.yaxis.set_ticklabels(hmap.yaxis.get_ticklabels(), rotation=0, ha='right')\n",
        "  hmap.xaxis.set_ticklabels(hmap.xaxis.get_ticklabels(), rotation=30, ha='right')\n",
        "  plt.ylabel('True sentiment')\n",
        "  plt.xlabel('Predicted sentiment');\n",
        "\n",
        "cm = confusion_matrix(y_test, y_pred)\n",
        "df_cm = pd.DataFrame(cm, index=class_names, columns=class_names)\n",
        "show_confusion_matrix(df_cm)"
      ],
      "execution_count": 151,
      "outputs": [
        {
          "output_type": "display_data",
          "data": {
            "image/png": "[encoded data removed]",
            "text/plain": [
              "<Figure size 864x576 with 2 Axes>"
            ]
          },
          "metadata": {
            "tags": [],
            "image/png": {
              "width": 725,
              "height": 516
            },
            "needs_background": "light"
          }
        }
      ]
    },
    {
      "cell_type": "code",
      "metadata": {
        "id": "zjGpVUOPMy0i",
        "colab_type": "code",
        "colab": {}
      },
      "source": [
        "idx = 2\n",
        "\n",
        "review_text = y_review_texts[idx]\n",
        "true_sentiment = y_test[idx]\n",
        "pred_df = pd.DataFrame({\n",
        "  'class_names': class_names,\n",
        "  'values': y_pred_probs[idx]\n",
        "})"
      ],
      "execution_count": 0,
      "outputs": []
    },
    {
      "cell_type": "code",
      "metadata": {
        "id": "IGgNEaHxNm-q",
        "colab_type": "code",
        "outputId": "acf1026a-cf55-4d75-930a-c63ea2e6bf33",
        "colab": {
          "base_uri": "https://localhost:8080/",
          "height": 136
        }
      },
      "source": [
        "pred_df"
      ],
      "execution_count": 153,
      "outputs": [
        {
          "output_type": "execute_result",
          "data": {
            "text/html": [
              "<div>\n",
              "<style scoped>\n",
              "    .dataframe tbody tr th:only-of-type {\n",
              "        vertical-align: middle;\n",
              "    }\n",
              "\n",
              "    .dataframe tbody tr th {\n",
              "        vertical-align: top;\n",
              "    }\n",
              "\n",
              "    .dataframe thead th {\n",
              "        text-align: right;\n",
              "    }\n",
              "</style>\n",
              "<table border=\"1\" class=\"dataframe\">\n",
              "  <thead>\n",
              "    <tr style=\"text-align: right;\">\n",
              "      <th></th>\n",
              "      <th>class_names</th>\n",
              "      <th>values</th>\n",
              "    </tr>\n",
              "  </thead>\n",
              "  <tbody>\n",
              "    <tr>\n",
              "      <th>0</th>\n",
              "      <td>negative</td>\n",
              "      <td>0.000005</td>\n",
              "    </tr>\n",
              "    <tr>\n",
              "      <th>1</th>\n",
              "      <td>neutral</td>\n",
              "      <td>0.000008</td>\n",
              "    </tr>\n",
              "    <tr>\n",
              "      <th>2</th>\n",
              "      <td>positive</td>\n",
              "      <td>0.999987</td>\n",
              "    </tr>\n",
              "  </tbody>\n",
              "</table>\n",
              "</div>"
            ],
            "text/plain": [
              "  class_names    values\n",
              "0    negative  0.000005\n",
              "1     neutral  0.000008\n",
              "2    positive  0.999987"
            ]
          },
          "metadata": {
            "tags": []
          },
          "execution_count": 153
        }
      ]
    },
    {
      "cell_type": "code",
      "metadata": {
        "id": "te20ZVsQNH3E",
        "colab_type": "code",
        "outputId": "dd322dc8-10b0-4552-8bff-bb09ec02055a",
        "colab": {
          "base_uri": "https://localhost:8080/",
          "height": 101
        }
      },
      "source": [
        "print(\"\\n\".join(wrap(review_text)))\n",
        "print()\n",
        "print(f'True sentiment: {class_names[true_sentiment]}')"
      ],
      "execution_count": 154,
      "outputs": [
        {
          "output_type": "stream",
          "text": [
            "HELSINKI AFX - KCI Konecranes said it has raised its stake in MMH\n",
            "Holdings Inc , the owner of US-based Morris Materials Handling , to\n",
            "90.9 pct from 74.5 pct .\n",
            "\n",
            "True sentiment: positive\n"
          ],
          "name": "stdout"
        }
      ]
    },
    {
      "cell_type": "code",
      "metadata": {
        "id": "r9oBR52ZNKLW",
        "colab_type": "code",
        "outputId": "4065578a-0c2e-4d08-f740-bb1d7748da7c",
        "colab": {
          "base_uri": "https://localhost:8080/",
          "height": 506
        }
      },
      "source": [
        "sns.barplot(x='values', y='class_names', data=pred_df, orient='h')\n",
        "plt.ylabel('sentiment')\n",
        "plt.xlabel('probability')\n",
        "plt.xlim([0, 1]);"
      ],
      "execution_count": 155,
      "outputs": [
        {
          "output_type": "display_data",
          "data": {
            "image/png": "[encoded data removed]",
            "text/plain": [
              "<Figure size 864x576 with 1 Axes>"
            ]
          },
          "metadata": {
            "tags": [],
            "image/png": {
              "width": 779,
              "height": 489
            },
            "needs_background": "light"
          }
        }
      ]
    },
    {
      "cell_type": "code",
      "metadata": {
        "id": "y5KYaQGgNsyu",
        "colab_type": "code",
        "colab": {}
      },
      "source": [
        "review_text = \"\"\"Their share in the total AUM of hybrid mutual funds dropped by 500 basis points to 20% in March. Arbitrage funds take \n",
        "advantage of price inefficiencies in the spot and futures markets.\"\"\""
      ],
      "execution_count": 0,
      "outputs": []
    },
    {
      "cell_type": "code",
      "metadata": {
        "id": "UR-pbkZcN6BT",
        "colab_type": "code",
        "colab": {}
      },
      "source": [
        "encoded_review = tokenizer.encode_plus(\n",
        "  review_text,\n",
        "  max_length=MAX_LEN,\n",
        "  add_special_tokens=True,\n",
        "  return_token_type_ids=False,\n",
        "  pad_to_max_length=True,\n",
        "  return_attention_mask=True,\n",
        "  return_tensors='pt',\n",
        ")"
      ],
      "execution_count": 0,
      "outputs": []
    },
    {
      "cell_type": "code",
      "metadata": {
        "id": "yczC888-N59U",
        "colab_type": "code",
        "outputId": "65c29a47-9b57-4f7d-b3d6-5d5e416e2400",
        "colab": {
          "base_uri": "https://localhost:8080/",
          "height": 67
        }
      },
      "source": [
        "input_ids = encoded_review['input_ids'].to(device)\n",
        "attention_mask = encoded_review['attention_mask'].to(device)\n",
        "\n",
        "output = model(input_ids, attention_mask)\n",
        "_, prediction = torch.max(output, dim=1)\n",
        "\n",
        "print(f'Review text: {review_text}')\n",
        "print(f'Sentiment  : {class_names[prediction]}')"
      ],
      "execution_count": 158,
      "outputs": [
        {
          "output_type": "stream",
          "text": [
            "Review text: Their share in the total AUM of hybrid mutual funds dropped by 500 basis points to 20% in March. Arbitrage funds take \n",
            "advantage of price inefficiencies in the spot and futures markets.\n",
            "Sentiment  : negative\n"
          ],
          "name": "stdout"
        }
      ]
    },
    {
      "cell_type": "code",
      "metadata": {
        "id": "vQrHiLc5N566",
        "colab_type": "code",
        "colab": {}
      },
      "source": [
        ""
      ],
      "execution_count": 0,
      "outputs": []
    },
    {
      "cell_type": "code",
      "metadata": {
        "id": "zS1lJnUUN55P",
        "colab_type": "code",
        "colab": {}
      },
      "source": [
        ""
      ],
      "execution_count": 0,
      "outputs": []
    },
    {
      "cell_type": "code",
      "metadata": {
        "id": "mdEnwPvgN50Y",
        "colab_type": "code",
        "colab": {}
      },
      "source": [
        ""
      ],
      "execution_count": 0,
      "outputs": []
    },
    {
      "cell_type": "code",
      "metadata": {
        "id": "PE477pWDN5yt",
        "colab_type": "code",
        "colab": {}
      },
      "source": [
        ""
      ],
      "execution_count": 0,
      "outputs": []
    },
    {
      "cell_type": "code",
      "metadata": {
        "id": "TVB161s7N5xM",
        "colab_type": "code",
        "colab": {}
      },
      "source": [
        ""
      ],
      "execution_count": 0,
      "outputs": []
    },
    {
      "cell_type": "code",
      "metadata": {
        "id": "n92CxcY0N5uU",
        "colab_type": "code",
        "colab": {}
      },
      "source": [
        ""
      ],
      "execution_count": 0,
      "outputs": []
    },
    {
      "cell_type": "code",
      "metadata": {
        "id": "86-qXLQ7N5pj",
        "colab_type": "code",
        "colab": {}
      },
      "source": [
        ""
      ],
      "execution_count": 0,
      "outputs": []
    },
    {
      "cell_type": "code",
      "metadata": {
        "id": "DhhqX5TdN5nb",
        "colab_type": "code",
        "colab": {}
      },
      "source": [
        ""
      ],
      "execution_count": 0,
      "outputs": []
    },
    {
      "cell_type": "code",
      "metadata": {
        "id": "-wyTBnxrN5lV",
        "colab_type": "code",
        "colab": {}
      },
      "source": [
        ""
      ],
      "execution_count": 0,
      "outputs": []
    },
    {
      "cell_type": "code",
      "metadata": {
        "id": "aCnxt28nN5iR",
        "colab_type": "code",
        "colab": {}
      },
      "source": [
        ""
      ],
      "execution_count": 0,
      "outputs": []
    }
  ]
}